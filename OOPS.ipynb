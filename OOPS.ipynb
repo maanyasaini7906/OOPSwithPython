{
  "nbformat": 4,
  "nbformat_minor": 0,
  "metadata": {
    "colab": {
      "provenance": []
    },
    "kernelspec": {
      "name": "python3",
      "display_name": "Python 3"
    },
    "language_info": {
      "name": "python"
    }
  },
  "cells": [
    {
      "cell_type": "code",
      "execution_count": 1,
      "metadata": {
        "colab": {
          "base_uri": "https://localhost:8080/",
          "height": 139
        },
        "collapsed": true,
        "id": "fKPUeNUEA1ZL",
        "outputId": "f19f6302-932c-462d-f597-6d8534dac72b"
      },
      "outputs": [
        {
          "output_type": "execute_result",
          "data": {
            "text/plain": [
              "'\\n1.What is Object-Oriented Programming (OOP)?\\n  Object-Oriented Programming (OOP) is a programming style where code is \\n  organized into objects, which are instances of classes. These objects group \\n  data (attributes) and behavior (methods) together.\\n\\n2.What is a class in OOP?\\n  A class is a blueprint for creating objects. It defines attributes (data) and \\n  methods (functions) that the objects will have.\\n\\n3.What is an object in OOP?\\n  An object is an instance of a class. It has its own data and can use the \\n  class’s methods.\\n  class Car:\\n    def drive(self):\\n        print(\"Driving\")\\n\\n  my_car = Car()  # Object of class Car\\n\\n4.What is the difference between abstraction and encapsulation?\\n          Abstraction\\t                           Encapsulation\\n  Hides implementation details\\t           Hides data inside the class\\n  Focuses on what an object does\\t         Focuses on how data is protected\\n  Achieved using abstract classes \\t       Achieved using private/protected\\n  or interfaces                            variables\\n\\n5.What are dunder methods in Python?\\n  Dunder methods (double underscore) are special methods with __ like __init__, \\n  __str__, __len__. They define how objects behave with built-in operations.\\n\\n6.Explain the concept of inheritance in OOP?\\n  Inheritance allows one class (child/subclass) to inherit attributes and \\n  methods from another class (parent/superclass).\\n  class Animal:\\n    def speak(self):\\n        return \"Makes a sound\"\\n\\n  class Dog(Animal):\\n    def speak(self):\\n        return \"Barks\"\\n\\n7. What is polymorphism in OOP?\\n   Polymorphism means having many forms — the same method name can behave\\n   differently based on the object calling it.\\n   Example:\\n   class Cat:\\n       def speak(self):\\n           return \"Meow\"\\n\\n   class Dog:\\n       def speak(self):\\n           return \"Bark\"\\n\\n  for animal in (Cat(), Dog()):\\n        print(animal.speak())  # Meow, Bark\\n\\n8. How is encapsulation achieved in Python?\\n  Encapsulation is hiding internal data and only exposing what’s necessary. \\n  Achieved using:\\n  _protected (convention only)\\n  __private (name mangling)\\n\\n9. What is a constructor in Python?\\n   A constructor is a special method __init__() that initializes object \\n   properties.\\n10. What are class and static methods in Python?\\n   Class Method (@classmethod): Has access to the class via cls.\\n   Static Method (@staticmethod): Doesn’t access class or instance.\\n\\n11. What is method overloading in Python?\\n    Python does not support true method overloading, but you can simulate it\\n     using default arguments or *args.\\n\\n12. What is method overriding in OOP?\\n    A child class can override (redefine) a method from the parent class.\\n    class Animal:\\n       def speak(self):\\n            return \"Sound\"\\n\\n    class Cat(Animal):\\n       def speak(self):\\n            return \"Meow\"\\n\\n13. What is a property decorator in Python?\\n    Used to create getter/setter methods that act like attributes.\\n\\n14. Why is polymorphism important in OOP?\\n    Promotes flexibility and reusability.\\n    Code becomes easier to extend and maintain.\\n    Allows different classes to be treated uniformly.\\n\\n15. What is an abstract class in Python?\\n    Abstract class contains one or more abstract methods (no implementation).\\n     Use abc module.\\n\\n16. What are the advantages of OOP?\\n    Modularity\\n    Code reuse through inheritance\\n    Flexibility via polymorphism\\n    Data protection through encapsulation\\n\\n17. What is the difference between a class variable and an instance variable?\\n    Class Variable: Shared across all instances.\\n    Instance Variable: Unique to each instance.\\n\\n18. What is multiple inheritance in Python?\\n    A class can inherit from multiple base classes.\\n    class A:\\n      pass\\n    class B:\\n      pass\\n    class C(A, B):\\n      pass\\n\\n19. Explain the purpose of ‘’__str__’ and ‘__repr__’ ‘ methods in Python?\\n    __str__: User-friendly string (print() uses this).\\n    __repr__: Developer-focused string (used in debugger).\\n\\n20. What is the significance of the ‘super()’ function in Python?\\n    super() lets you call methods from the parent class.\\n\\n21. What is the significance of the __del__ method in Python?\\n   \\n22. What is the difference between @staticmethod and @classmethod in Python?\\n23. How does polymorphism work in Python with inheritance+\\n24. What is method chaining in Python OOP+\\n25. What is the purpose of the __call__ method in Python?\\n\\n\\n'"
            ],
            "application/vnd.google.colaboratory.intrinsic+json": {
              "type": "string"
            }
          },
          "metadata": {},
          "execution_count": 1
        }
      ],
      "source": [
        "\"\"\"\n",
        "1.What is Object-Oriented Programming (OOP)?\n",
        "  Object-Oriented Programming (OOP) is a programming style where code is\n",
        "  organized into objects, which are instances of classes. These objects group\n",
        "  data (attributes) and behavior (methods) together.\n",
        "\n",
        "2.What is a class in OOP?\n",
        "  A class is a blueprint for creating objects. It defines attributes (data) and\n",
        "  methods (functions) that the objects will have.\n",
        "\n",
        "3.What is an object in OOP?\n",
        "  An object is an instance of a class. It has its own data and can use the\n",
        "  class’s methods.\n",
        "  class Car:\n",
        "    def drive(self):\n",
        "        print(\"Driving\")\n",
        "\n",
        "  my_car = Car()  # Object of class Car\n",
        "\n",
        "4.What is the difference between abstraction and encapsulation?\n",
        "          Abstraction\t                           Encapsulation\n",
        "  Hides implementation details\t           Hides data inside the class\n",
        "  Focuses on what an object does\t         Focuses on how data is protected\n",
        "  Achieved using abstract classes \t       Achieved using private/protected\n",
        "  or interfaces                            variables\n",
        "\n",
        "5.What are dunder methods in Python?\n",
        "  Dunder methods (double underscore) are special methods with __ like __init__,\n",
        "  __str__, __len__. They define how objects behave with built-in operations.\n",
        "\n",
        "6.Explain the concept of inheritance in OOP?\n",
        "  Inheritance allows one class (child/subclass) to inherit attributes and\n",
        "  methods from another class (parent/superclass).\n",
        "  class Animal:\n",
        "    def speak(self):\n",
        "        return \"Makes a sound\"\n",
        "\n",
        "  class Dog(Animal):\n",
        "    def speak(self):\n",
        "        return \"Barks\"\n",
        "\n",
        "7. What is polymorphism in OOP?\n",
        "   Polymorphism means having many forms — the same method name can behave\n",
        "   differently based on the object calling it.\n",
        "   Example:\n",
        "   class Cat:\n",
        "       def speak(self):\n",
        "           return \"Meow\"\n",
        "\n",
        "   class Dog:\n",
        "       def speak(self):\n",
        "           return \"Bark\"\n",
        "\n",
        "  for animal in (Cat(), Dog()):\n",
        "        print(animal.speak())  # Meow, Bark\n",
        "\n",
        "8. How is encapsulation achieved in Python?\n",
        "  Encapsulation is hiding internal data and only exposing what’s necessary.\n",
        "  Achieved using:\n",
        "  _protected (convention only)\n",
        "  __private (name mangling)\n",
        "\n",
        "9. What is a constructor in Python?\n",
        "   A constructor is a special method __init__() that initializes object\n",
        "   properties.\n",
        "10. What are class and static methods in Python?\n",
        "   Class Method (@classmethod): Has access to the class via cls.\n",
        "   Static Method (@staticmethod): Doesn’t access class or instance.\n",
        "\n",
        "11. What is method overloading in Python?\n",
        "    Python does not support true method overloading, but you can simulate it\n",
        "     using default arguments or *args.\n",
        "\n",
        "12. What is method overriding in OOP?\n",
        "    A child class can override (redefine) a method from the parent class.\n",
        "    class Animal:\n",
        "       def speak(self):\n",
        "            return \"Sound\"\n",
        "\n",
        "    class Cat(Animal):\n",
        "       def speak(self):\n",
        "            return \"Meow\"\n",
        "\n",
        "13. What is a property decorator in Python?\n",
        "    Used to create getter/setter methods that act like attributes.\n",
        "\n",
        "14. Why is polymorphism important in OOP?\n",
        "    Promotes flexibility and reusability.\n",
        "    Code becomes easier to extend and maintain.\n",
        "    Allows different classes to be treated uniformly.\n",
        "\n",
        "15. What is an abstract class in Python?\n",
        "    Abstract class contains one or more abstract methods (no implementation).\n",
        "     Use abc module.\n",
        "\n",
        "16. What are the advantages of OOP?\n",
        "    Modularity\n",
        "    Code reuse through inheritance\n",
        "    Flexibility via polymorphism\n",
        "    Data protection through encapsulation\n",
        "\n",
        "17. What is the difference between a class variable and an instance variable?\n",
        "    Class Variable: Shared across all instances.\n",
        "    Instance Variable: Unique to each instance.\n",
        "\n",
        "18. What is multiple inheritance in Python?\n",
        "    A class can inherit from multiple base classes.\n",
        "    class A:\n",
        "      pass\n",
        "    class B:\n",
        "      pass\n",
        "    class C(A, B):\n",
        "      pass\n",
        "\n",
        "19. Explain the purpose of ‘’__str__’ and ‘__repr__’ ‘ methods in Python?\n",
        "    __str__: User-friendly string (print() uses this).\n",
        "    __repr__: Developer-focused string (used in debugger).\n",
        "\n",
        "20. What is the significance of the ‘super()’ function in Python?\n",
        "    super() lets you call methods from the parent class.\n",
        "\n",
        "21. What is the significance of the __del__ method in Python?\n",
        "    The __del__ method is a destructor. It's called automatically when an object\n",
        "    is about to be destroyed (usually when no references are left).\n",
        "    Use: To clean up resources like files or network connections.\n",
        "\n",
        "22. What is the difference between @staticmethod and @classmethod in Python?\n",
        "    Feature\t           @staticmethod\t               @classmethod\n",
        "   Access to class  \t   No access                \t Has access to class via cls\n",
        "\n",
        "   Syntax Example\t    @staticmethod                @classmethod\n",
        "                      def func(x, y):               def func(cls):\n",
        "\n",
        "23. How does polymorphism work in Python with inheritance?\n",
        "    Polymorphism with inheritance allows subclasses to override methods of\n",
        "    the parent, and we can use those methods interchangeably.\n",
        "\n",
        "24. What is method chaining in Python OOP?\n",
        "    Method chaining means calling multiple methods on the same object in one\n",
        "     line, each returning the object itself (return self).\n",
        "\n",
        "25. What is the purpose of the __call__ method in Python?\n",
        "    The __call__ method is called when an object is called like a function.\n",
        "\"\"\""
      ]
    },
    {
      "cell_type": "code",
      "source": [
        "\"\"\" Create a parent class Animal with a method speak() that prints a generic\n",
        "message. Create a child class Dog that overrides the speak() method to print\n",
        "\"Bark!\".\n",
        "\"\"\"\n",
        "class Animal:\n",
        "  def speak(self):\n",
        "    print(\"The animal makes a sound\")\n",
        "class Dog(Animal):\n",
        "  def speak(self):\n",
        "    print(\"dog barks\")\n",
        "\n",
        "obj=Dog()\n",
        "obj.speak()"
      ],
      "metadata": {
        "colab": {
          "base_uri": "https://localhost:8080/"
        },
        "id": "-Sygl9OtGobX",
        "outputId": "ba41a378-4db1-45f0-8797-f9c58d187e84"
      },
      "execution_count": 2,
      "outputs": [
        {
          "output_type": "stream",
          "name": "stdout",
          "text": [
            "dog barks\n"
          ]
        }
      ]
    },
    {
      "cell_type": "code",
      "source": [
        "\"\"\" Write a program to create an abstract class Shape with a method area().\n",
        "Derive classes Circle and Rectangle from it and implement the area() method in\n",
        "both.\n",
        "\"\"\"\n",
        "from abc import ABC, abstractmethod\n",
        "import math\n",
        "\n",
        "# Abstract base class\n",
        "class Shape(ABC):\n",
        "    @abstractmethod\n",
        "    def area(self):\n",
        "        pass\n",
        "class Circle(Shape):\n",
        "    def __init__(self, radius):\n",
        "        self.radius = radius\n",
        "\n",
        "    def area(self):\n",
        "        return math.pi * self.radius ** 2\n",
        "class Rectangle(Shape):\n",
        "    def __init__(self, length, width):\n",
        "        self.length = length\n",
        "        self.width = width\n",
        "\n",
        "    def area(self):\n",
        "        return self.length * self.width\n",
        "c = Circle(5)\n",
        "print(\"Area of Circle:\", c.area())\n",
        "\n",
        "r = Rectangle(4, 6)\n",
        "print(\"Area of Rectangle:\", r.area())"
      ],
      "metadata": {
        "colab": {
          "base_uri": "https://localhost:8080/"
        },
        "id": "LKjDMm_OHvhA",
        "outputId": "68a0d7bf-aa21-4539-f16c-0c384acc475e"
      },
      "execution_count": 3,
      "outputs": [
        {
          "output_type": "stream",
          "name": "stdout",
          "text": [
            "Area of Circle: 78.53981633974483\n",
            "Area of Rectangle: 24\n"
          ]
        }
      ]
    },
    {
      "cell_type": "code",
      "source": [
        "\"\"\" Implement a multi-level inheritance scenario where a class Vehicle has an\n",
        "attribute type. Derive a class Car and further derive a class ElectricCar that\n",
        "adds a battery attribute.\n",
        "\"\"\"\n",
        "# Base class\n",
        "class Vehicle:\n",
        "    def __init__(self, vehicle_type):\n",
        "        self.type = vehicle_type\n",
        "\n",
        "    def show_type(self):\n",
        "        print(\"Vehicle Type:\", self.type)\n",
        "\n",
        "class Car(Vehicle):\n",
        "    def __init__(self, vehicle_type, brand):\n",
        "        super().__init__(vehicle_type)\n",
        "        self.brand = brand\n",
        "\n",
        "    def show_brand(self):\n",
        "        print(\"Car Brand:\", self.brand)\n",
        "\n",
        "class ElectricCar(Car):\n",
        "    def __init__(self, vehicle_type, brand, battery_capacity):\n",
        "        super().__init__(vehicle_type, brand)\n",
        "        self.battery = battery_capacity\n",
        "\n",
        "    def show_battery(self):\n",
        "        print(\"Battery Capacity:\", self.battery, \"kWh\")\n",
        "ecar = ElectricCar(\"Four-wheeler\", \"Tesla\", 75)\n",
        "ecar.show_type()\n",
        "ecar.show_brand()\n",
        "ecar.show_battery()\n"
      ],
      "metadata": {
        "colab": {
          "base_uri": "https://localhost:8080/"
        },
        "id": "ct3exGNSIpuD",
        "outputId": "19a5ab74-73cb-499d-ec25-38e77b82eba3"
      },
      "execution_count": 1,
      "outputs": [
        {
          "output_type": "stream",
          "name": "stdout",
          "text": [
            "Vehicle Type: Four-wheeler\n",
            "Car Brand: Tesla\n",
            "Battery Capacity: 75 kWh\n"
          ]
        }
      ]
    },
    {
      "cell_type": "code",
      "source": [
        "\"\"\"\n",
        " Demonstrate polymorphism by creating a base class Bird with a method fly().\n",
        " Create two derived classes Sparrow and Penguin that override the fly() method.\n",
        "\"\"\"\n",
        "# Base class\n",
        "class Bird:\n",
        "    def fly(self):\n",
        "        print(\"Some birds can fly.\")\n",
        "\n",
        "class Sparrow(Bird):\n",
        "    def fly(self):\n",
        "        print(\"Sparrow flies high in the sky.\")\n",
        "\n",
        "class Penguin(Bird):\n",
        "    def fly(self):\n",
        "        print(\"Penguins cannot fly, they swim instead.\")\n",
        "\n",
        "def show_flight(bird):\n",
        "    bird.fly()\n",
        "b1 = Sparrow()\n",
        "b2 = Penguin()\n",
        "\n",
        "show_flight(b1)\n",
        "show_flight(b2)\n",
        "\n"
      ],
      "metadata": {
        "colab": {
          "base_uri": "https://localhost:8080/"
        },
        "id": "nXmogWjRUv-o",
        "outputId": "463902ab-f206-475a-be01-b1eacd17251b"
      },
      "execution_count": 2,
      "outputs": [
        {
          "output_type": "stream",
          "name": "stdout",
          "text": [
            "Sparrow flies high in the sky.\n",
            "Penguins cannot fly, they swim instead.\n"
          ]
        }
      ]
    },
    {
      "cell_type": "code",
      "source": [
        "\"\"\"\n",
        "Write a program to demonstrate encapsulation by creating a class BankAccount\n",
        "with private attributes balance and methods to deposit, withdraw, and check\n",
        "balance.\n",
        "\"\"\"\n",
        "class BankAccount:\n",
        "    def __init__(self, initial_balance=0):\n",
        "        self.__balance = initial_balance\n",
        "\n",
        "    def deposit(self, amount):\n",
        "        if amount > 0:\n",
        "            self.__balance += amount\n",
        "            print(f\"Deposited: ₹{amount}\")\n",
        "        else:\n",
        "            print(\"Invalid deposit amount\")\n",
        "\n",
        "    def withdraw(self, amount):\n",
        "        if 0 < amount <= self.__balance:\n",
        "            self.__balance -= amount\n",
        "            print(f\"Withdrawn: ₹{amount}\")\n",
        "        else:\n",
        "            print(\"Insufficient balance or invalid amount\")\n",
        "\n",
        "    def check_balance(self):\n",
        "        print(f\"Current Balance: ₹{self.__balance}\")\n",
        "\n",
        "account = BankAccount(1000)\n",
        "account.check_balance()   # Output: ₹1000\n",
        "\n",
        "account.deposit(500)      # Output: Deposited ₹500\n",
        "account.withdraw(200)     # Output: Withdrawn ₹200\n",
        "account.check_balance()   # Output: ₹1300"
      ],
      "metadata": {
        "colab": {
          "base_uri": "https://localhost:8080/"
        },
        "id": "9i-7niDNVQ3E",
        "outputId": "d9cbac8a-68b2-44a6-ea66-8618b78f86a1"
      },
      "execution_count": 4,
      "outputs": [
        {
          "output_type": "stream",
          "name": "stdout",
          "text": [
            "Current Balance: ₹1000\n",
            "Deposited: ₹500\n",
            "Withdrawn: ₹200\n",
            "Current Balance: ₹1300\n"
          ]
        }
      ]
    },
    {
      "cell_type": "code",
      "source": [
        "\"\"\"\n",
        "Demonstrate runtime polymorphism using a method play() in a base class\n",
        "Instrument. Derive classes Guitar and Piano that implement their own version\n",
        "of play().\n",
        "\"\"\"\n",
        "\n",
        "class Instrument:\n",
        "    def play(self):\n",
        "        print(\"Playing an instrument.\")\n",
        "\n",
        "\n",
        "class Guitar(Instrument):\n",
        "    def play(self):\n",
        "        print(\"Strumming the guitar.\")\n",
        "\n",
        "\n",
        "class Piano(Instrument):\n",
        "    def play(self):\n",
        "        print(\"Playing the piano.\")\n",
        "\n",
        "def start_playing(instrument):\n",
        "    instrument.play()\n",
        "i1 = Guitar()\n",
        "i2 = Piano()\n",
        "\n",
        "start_playing(i1)  # Output: Strumming the guitar.\n",
        "start_playing(i2)  # Output: Playing the piano.\n"
      ],
      "metadata": {
        "colab": {
          "base_uri": "https://localhost:8080/"
        },
        "id": "hTHyQCSMWDnf",
        "outputId": "3bf6a03f-c97c-4e95-94f4-ed5ccfab2365"
      },
      "execution_count": 5,
      "outputs": [
        {
          "output_type": "stream",
          "name": "stdout",
          "text": [
            "Strumming the guitar.\n",
            "Playing the piano.\n"
          ]
        }
      ]
    },
    {
      "cell_type": "code",
      "source": [
        "\"\"\"\n",
        "Create a class MathOperations with a class method add_numbers() to add two\n",
        "numbers and a static method subtract_numbers() to subtract two numbers.\n",
        "\"\"\"\n",
        "class MathOperations:\n",
        "    @classmethod\n",
        "    def add_numbers(cls, a, b):\n",
        "        return a + b\n",
        "\n",
        "    @staticmethod\n",
        "    def subtract_numbers(a, b):\n",
        "        return a - b\n",
        "print(\"Addition:\", MathOperations.add_numbers(10, 5))      # Output: 15\n",
        "print(\"Subtraction:\", MathOperations.subtract_numbers(10, 5))  # Output: 5\n"
      ],
      "metadata": {
        "colab": {
          "base_uri": "https://localhost:8080/"
        },
        "id": "7Lg7PfrXXhXp",
        "outputId": "fd15cd42-ff24-4181-cd10-bf90fc4395a5"
      },
      "execution_count": 6,
      "outputs": [
        {
          "output_type": "stream",
          "name": "stdout",
          "text": [
            "Addition: 15\n",
            "Subtraction: 5\n"
          ]
        }
      ]
    },
    {
      "cell_type": "code",
      "source": [
        "\"\"\"\n",
        " Implement a class Person with a class method to count the total number of\n",
        " persons created.\n",
        "\"\"\"\n",
        "class Person:\n",
        "  count=0\n",
        "  def __init__(self,name):\n",
        "    self.name=name\n",
        "    Person.count+=1\n",
        "\n",
        "  @classmethod\n",
        "  def get_number(cls):\n",
        "    return cls.count\n",
        "\n",
        "p1 = Person(\"Alice\")\n",
        "p2 = Person(\"Bob\")\n",
        "p3 = Person(\"Charlie\")\n",
        "\n",
        "print(\"Total Persons Created:\", Person.get_number())"
      ],
      "metadata": {
        "colab": {
          "base_uri": "https://localhost:8080/"
        },
        "id": "Tj6W2QCyX0M6",
        "outputId": "06954af0-a790-408b-dcc6-e65a1b560bc4"
      },
      "execution_count": 1,
      "outputs": [
        {
          "output_type": "stream",
          "name": "stdout",
          "text": [
            "Total Persons Created: 3\n"
          ]
        }
      ]
    },
    {
      "cell_type": "code",
      "source": [
        "\"\"\"\n",
        "Write a class Fraction with attributes numerator and denominator. Override the\n",
        "str method to display the fraction as \"numerator/denominator\".\n",
        "\"\"\"\n",
        "class Fraction:\n",
        "  def __init__(self,num,den):\n",
        "    self.num=num\n",
        "    self.den=den\n",
        "  def __str__(self):\n",
        "    return f\"{self.num}/{self.den}\"\n",
        "\n",
        "f1=Fraction(2,5)\n",
        "print(f1)"
      ],
      "metadata": {
        "colab": {
          "base_uri": "https://localhost:8080/"
        },
        "id": "pTGCLDeYti2R",
        "outputId": "8c877cd8-0e14-4d57-e9b7-f5a13a6738d2"
      },
      "execution_count": 2,
      "outputs": [
        {
          "output_type": "stream",
          "name": "stdout",
          "text": [
            "2/5\n"
          ]
        }
      ]
    },
    {
      "cell_type": "code",
      "source": [
        "\"\"\"\n",
        " Demonstrate operator overloading by creating a class Vector and overriding\n",
        " the add method to add two vectors.\n",
        "\"\"\"\n",
        "class Vector:\n",
        "  def __init__(self,x,y):\n",
        "    self.x=x\n",
        "    self.y=y\n",
        "  def __add__(self,other):\n",
        "    return Vector(self.x+other.x,self.y+other.y)\n",
        "  def __str__(self):\n",
        "        return f\"({self.x}, {self.y})\"\n",
        "\n",
        "v1 = Vector(2, 3)\n",
        "v2 = Vector(4, 5)\n",
        "\n",
        "v3 = v1 + v2\n",
        "print(\"Added Vector:\", v3)"
      ],
      "metadata": {
        "colab": {
          "base_uri": "https://localhost:8080/"
        },
        "id": "9nJi6z5Aud4i",
        "outputId": "e34cf43f-57fb-4010-d728-f2ea6754feb3"
      },
      "execution_count": 5,
      "outputs": [
        {
          "output_type": "stream",
          "name": "stdout",
          "text": [
            "Added Vector: (6, 8)\n"
          ]
        }
      ]
    },
    {
      "cell_type": "code",
      "source": [
        "\"\"\"\n",
        " Create a class Person with attributes name and age. Add a method greet() that\n",
        " prints \"Hello, my name is {name} and I am {age} years old.\"\n",
        "\"\"\"\n",
        "class Person:\n",
        "  def __init__(self,name,age):\n",
        "    self.name=name\n",
        "    self.age=age\n",
        "  def greet(self):\n",
        "    print(f\"Hello,my name is {self.name} and I am {self.age} years old\")\n",
        "\n",
        "p = Person(\"Maanya\",21)\n",
        "p.greet()"
      ],
      "metadata": {
        "colab": {
          "base_uri": "https://localhost:8080/"
        },
        "id": "_Z3XDWcav1Yz",
        "outputId": "047af1d3-10ec-4fc4-bb62-89a2e8b87056"
      },
      "execution_count": 10,
      "outputs": [
        {
          "output_type": "stream",
          "name": "stdout",
          "text": [
            "Hello,my name is Maanya and I am 21 years old\n"
          ]
        }
      ]
    },
    {
      "cell_type": "code",
      "source": [
        "\"\"\"\n",
        " Implement a class Student with attributes name and grades. Create a method\n",
        " average_grade() to compute the average of the grades.\n",
        "\"\"\"\n",
        "class Student:\n",
        "  def __init__(self,name,grade):\n",
        "    self.name=name\n",
        "    self.grade=grade\n",
        "  def get_marks(self):\n",
        "    if len(self.grade) == 0:\n",
        "      return 0\n",
        "    else:\n",
        "      return sum(self.grade)/len(self.grade)\n",
        "\n",
        "s1 = Student(\"Maanya\", [85, 90, 78, 92])\n",
        "print(f\"{s1.name}'s average grade is:\", s1.get_marks())"
      ],
      "metadata": {
        "colab": {
          "base_uri": "https://localhost:8080/"
        },
        "id": "N-bq4dMQxFv-",
        "outputId": "4493e969-d497-4a86-eacf-4767ecaa2600"
      },
      "execution_count": 15,
      "outputs": [
        {
          "output_type": "stream",
          "name": "stdout",
          "text": [
            "Maanya's average grade is: 86.25\n"
          ]
        }
      ]
    },
    {
      "cell_type": "code",
      "source": [
        "\"\"\"\n",
        " Create a class Rectangle with methods set_dimensions() to set the dimensions\n",
        " and area() to calculate the area.\n",
        "\"\"\"\n",
        "class Rectangle:\n",
        "    def __init__(self):\n",
        "        self.length = 0\n",
        "        self.width = 0\n",
        "\n",
        "    def set_dimensions(self, length, width):\n",
        "        self.length = length\n",
        "        self.width = width\n",
        "\n",
        "    def area(self):\n",
        "        return self.length * self.width\n",
        "\n",
        "# Example usage\n",
        "r = Rectangle()\n",
        "r.set_dimensions(10, 5)\n",
        "print(\"Area of Rectangle:\", r.area())"
      ],
      "metadata": {
        "colab": {
          "base_uri": "https://localhost:8080/"
        },
        "id": "niVcLCmFyltI",
        "outputId": "b6b7bb97-41ac-4dbb-f423-ca2ce3385a67"
      },
      "execution_count": 17,
      "outputs": [
        {
          "output_type": "stream",
          "name": "stdout",
          "text": [
            "Area of Rectangle: 50\n"
          ]
        }
      ]
    },
    {
      "cell_type": "code",
      "source": [
        "\"\"\"\n",
        " Create a class Employee with a method calculate_salary() that computes the\n",
        " salary based on hours worked and hourly rate. Create a derived class Manager\n",
        " that adds a bonus to the salary.\n",
        "\"\"\"\n",
        "# Base class\n",
        "class Employee:\n",
        "    def __init__(self, name, hours_worked, hourly_rate):\n",
        "        self.name = name\n",
        "        self.hours_worked = hours_worked\n",
        "        self.hourly_rate = hourly_rate\n",
        "\n",
        "    def calculate_salary(self):\n",
        "        return self.hours_worked * self.hourly_rate\n",
        "\n",
        "# Derived class\n",
        "class Manager(Employee):\n",
        "    def __init__(self, name, hours_worked, hourly_rate, bonus):\n",
        "        super().__init__(name, hours_worked, hourly_rate)\n",
        "        self.bonus = bonus\n",
        "\n",
        "    def calculate_salary(self):\n",
        "        base_salary = super().calculate_salary()\n",
        "        return base_salary + self.bonus\n",
        "\n",
        "# Example usage\n",
        "e1 = Employee(\"Rahul\", 40, 300)\n",
        "print(f\"{e1.name}'s salary: ₹{e1.calculate_salary()}\")\n",
        "\n",
        "m1 = Manager(\"Maanya\", 40, 500, 5000)\n",
        "print(f\"{m1.name}'s salary with bonus: ₹{m1.calculate_salary()}\")"
      ],
      "metadata": {
        "colab": {
          "base_uri": "https://localhost:8080/"
        },
        "id": "bU_BZ-iazI3c",
        "outputId": "444509d9-0df2-4d1f-81c4-1b45a917cdc8"
      },
      "execution_count": 18,
      "outputs": [
        {
          "output_type": "stream",
          "name": "stdout",
          "text": [
            "Rahul's salary: ₹12000\n",
            "Maanya's salary with bonus: ₹25000\n"
          ]
        }
      ]
    },
    {
      "cell_type": "code",
      "source": [
        "\"\"\"\n",
        "Create a class Product with attributes name, price, and quantity. Implement a\n",
        " method total_price() that calculates the total price of the product.\n",
        "\"\"\"\n",
        "class Product:\n",
        "    def __init__(self, name, price, quantity):\n",
        "        self.name = name\n",
        "        self.price = price\n",
        "        self.quantity = quantity\n",
        "\n",
        "    def total_price(self):\n",
        "        return self.price * self.quantity\n",
        "\n",
        "# Example usage\n",
        "p1 = Product(\"Notebook\", 50, 3)\n",
        "print(f\"Total price for {p1.quantity} {p1.name}(s): ₹{p1.total_price()}\")\n",
        "\n"
      ],
      "metadata": {
        "colab": {
          "base_uri": "https://localhost:8080/"
        },
        "id": "HJZp_W9Vzqib",
        "outputId": "b3fde075-b5ef-49fa-844d-6628d288a299"
      },
      "execution_count": 19,
      "outputs": [
        {
          "output_type": "stream",
          "name": "stdout",
          "text": [
            "Total price for 3 Notebook(s): ₹150\n"
          ]
        }
      ]
    },
    {
      "cell_type": "code",
      "source": [
        "\"\"\"\n",
        ". Create a class Animal with an abstract method sound(). Create two derived\n",
        "classes Cow and Sheep that implement the sound() method.\n",
        "\"\"\"\n",
        "from abc import ABC, abstractmethod\n",
        "class Animal(ABC):\n",
        "    @abstractmethod\n",
        "    def sound(self):\n",
        "        pass\n",
        "\n",
        "class Cow(Animal):\n",
        "    def sound(self):\n",
        "        return \"Moo\"\n",
        "\n",
        "class Sheep(Animal):\n",
        "    def sound(self):\n",
        "        return \"Baa\"\n",
        "\n",
        "c = Cow()\n",
        "s = Sheep()\n",
        "\n",
        "print(\"Cow sound:\", c.sound())\n",
        "print(\"Sheep sound:\", s.sound())\n"
      ],
      "metadata": {
        "colab": {
          "base_uri": "https://localhost:8080/"
        },
        "id": "CkMb-vOcz5_E",
        "outputId": "7c8a2000-3c2d-4dfb-9440-628c9b34b33c"
      },
      "execution_count": 20,
      "outputs": [
        {
          "output_type": "stream",
          "name": "stdout",
          "text": [
            "Cow sound: Moo\n",
            "Sheep sound: Baa\n"
          ]
        }
      ]
    },
    {
      "cell_type": "code",
      "source": [
        "\"\"\"\n",
        "Create a class Book with attributes title, author, and year_published. Add a\n",
        "method get_book_info() that returns a formatted string with the book's details.\n",
        "\"\"\"\n",
        "class Book:\n",
        "    def __init__(self, title, author, year_published):\n",
        "        self.title = title\n",
        "        self.author = author\n",
        "        self.year_published = year_published\n",
        "\n",
        "    def get_book_info(self):\n",
        "        return f\"'{self.title}' by {self.author}, published in {self.year_published}\"\n",
        "\n",
        "b1 = Book(\"The Alchemist\", \"Paulo Coelho\", 1988)\n",
        "print(b1.get_book_info())\n"
      ],
      "metadata": {
        "colab": {
          "base_uri": "https://localhost:8080/"
        },
        "id": "mHqJTF8j0Ud0",
        "outputId": "ba16b840-ff8f-43b6-bfc7-5ec0db9641b0"
      },
      "execution_count": 21,
      "outputs": [
        {
          "output_type": "stream",
          "name": "stdout",
          "text": [
            "'The Alchemist' by Paulo Coelho, published in 1988\n"
          ]
        }
      ]
    },
    {
      "cell_type": "code",
      "source": [
        "\"\"\"\n",
        " Create a class House with attributes address and price. Create a derived class\n",
        " Mansion that adds an attribute number_of_rooms.\n",
        "\"\"\"\n",
        "class House:\n",
        "    def __init__(self, address, price):\n",
        "        self.address = address\n",
        "        self.price = price\n",
        "\n",
        "    def get_info(self):\n",
        "        return f\"Address: {self.address}, Price: ₹{self.price}\"\n",
        "\n",
        "class Mansion(House):\n",
        "    def __init__(self, address, price, number_of_rooms):\n",
        "        super().__init__(address, price)\n",
        "        self.number_of_rooms = number_of_rooms\n",
        "\n",
        "    def get_info(self):\n",
        "        base_info = super().get_info()\n",
        "        return f\"{base_info}, Rooms: {self.number_of_rooms}\"\n",
        "\n",
        "m1 = Mansion(\"Beverly Hills, LA\", 100000000, 12)\n",
        "print(m1.get_info())\n"
      ],
      "metadata": {
        "colab": {
          "base_uri": "https://localhost:8080/"
        },
        "id": "xKrv3Aas0rBT",
        "outputId": "293acb96-ace7-4744-954f-7d70d1a91d2d"
      },
      "execution_count": 22,
      "outputs": [
        {
          "output_type": "stream",
          "name": "stdout",
          "text": [
            "Address: Beverly Hills, LA, Price: ₹100000000, Rooms: 12\n"
          ]
        }
      ]
    }
  ]
}